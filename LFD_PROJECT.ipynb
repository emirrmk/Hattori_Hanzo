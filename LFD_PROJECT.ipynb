{
  "nbformat": 4,
  "nbformat_minor": 0,
  "metadata": {
    "colab": {
      "provenance": []
    },
    "kernelspec": {
      "name": "python3",
      "display_name": "Python 3"
    },
    "language_info": {
      "name": "python"
    }
  },
  "cells": [
    {
      "cell_type": "code",
      "source": [
        "from sklearn.linear_model import BayesianRidge, Ridge, Lasso\n",
        "from sklearn.tree import DecisionTreeRegressor\n",
        "from sklearn.gaussian_process import GaussianProcessRegressor\n",
        "\n",
        "from sklearn.neighbors import LocalOutlierFactor\n",
        "\n",
        "from sklearn.model_selection import KFold\n",
        "from sklearn.decomposition import PCA\n",
        "\n",
        "from sklearn.metrics import mean_squared_error as mse\n",
        "\n",
        "import pickle\n",
        "import numpy as np\n",
        "import pandas as pd\n",
        "import random as r\n",
        "import matplotlib.pyplot as plt\n",
        "%matplotlib inline\n",
        "import seaborn as sns\n",
        "\n",
        "r.seed(1)\n",
        "\n",
        "import warnings\n",
        "warnings.filterwarnings(\"ignore\")"
      ],
      "metadata": {
        "id": "KUT3gAI0XrRR"
      },
      "execution_count": 169,
      "outputs": []
    },
    {
      "cell_type": "markdown",
      "source": [
        "### EDA"
      ],
      "metadata": {
        "id": "Y3IcVF3KagO_"
      }
    },
    {
      "cell_type": "code",
      "source": [
        "dfx = pd.read_csv(\"train_features.csv\")\n",
        "dfy = pd.read_csv(\"train_targets.csv\")"
      ],
      "metadata": {
        "id": "w83gFqPVaZT5"
      },
      "execution_count": 170,
      "outputs": []
    },
    {
      "cell_type": "code",
      "source": [
        "df_test = pd.read_csv(\"test_features.csv\")"
      ],
      "metadata": {
        "id": "7Gbo2YX48Ff6"
      },
      "execution_count": 171,
      "outputs": []
    },
    {
      "cell_type": "code",
      "source": [
        "dfx.info()"
      ],
      "metadata": {
        "colab": {
          "base_uri": "https://localhost:8080/"
        },
        "id": "8e49WttgafyY",
        "outputId": "ec3ab2cb-8806-456c-96b6-88fcbe80e5cf"
      },
      "execution_count": 172,
      "outputs": [
        {
          "output_type": "stream",
          "name": "stdout",
          "text": [
            "<class 'pandas.core.frame.DataFrame'>\n",
            "RangeIndex: 900 entries, 0 to 899\n",
            "Data columns (total 6 columns):\n",
            " #   Column    Non-Null Count  Dtype  \n",
            "---  ------    --------------  -----  \n",
            " 0   age       900 non-null    int64  \n",
            " 1   sex       900 non-null    object \n",
            " 2   bmi       900 non-null    float64\n",
            " 3   children  900 non-null    int64  \n",
            " 4   smoker    900 non-null    object \n",
            " 5   region    900 non-null    object \n",
            "dtypes: float64(1), int64(2), object(3)\n",
            "memory usage: 42.3+ KB\n"
          ]
        }
      ]
    },
    {
      "cell_type": "code",
      "source": [
        "dfy.info()"
      ],
      "metadata": {
        "colab": {
          "base_uri": "https://localhost:8080/"
        },
        "id": "JcuvX3U0aitD",
        "outputId": "9ab148cd-0772-495c-9c68-a5e597505a78"
      },
      "execution_count": 173,
      "outputs": [
        {
          "output_type": "stream",
          "name": "stdout",
          "text": [
            "<class 'pandas.core.frame.DataFrame'>\n",
            "RangeIndex: 900 entries, 0 to 899\n",
            "Data columns (total 1 columns):\n",
            " #   Column   Non-Null Count  Dtype  \n",
            "---  ------   --------------  -----  \n",
            " 0   charges  900 non-null    float64\n",
            "dtypes: float64(1)\n",
            "memory usage: 7.2 KB\n"
          ]
        }
      ]
    },
    {
      "cell_type": "code",
      "source": [
        "df = dfx.join(dfy[\"charges\"])"
      ],
      "metadata": {
        "id": "J-XzTu0ibHmo"
      },
      "execution_count": 174,
      "outputs": []
    },
    {
      "cell_type": "code",
      "source": [
        "df.info()"
      ],
      "metadata": {
        "colab": {
          "base_uri": "https://localhost:8080/"
        },
        "id": "SlRKY3InbmF7",
        "outputId": "25490ed9-f97c-468b-9e6d-df584a0c5519"
      },
      "execution_count": 175,
      "outputs": [
        {
          "output_type": "stream",
          "name": "stdout",
          "text": [
            "<class 'pandas.core.frame.DataFrame'>\n",
            "RangeIndex: 900 entries, 0 to 899\n",
            "Data columns (total 7 columns):\n",
            " #   Column    Non-Null Count  Dtype  \n",
            "---  ------    --------------  -----  \n",
            " 0   age       900 non-null    int64  \n",
            " 1   sex       900 non-null    object \n",
            " 2   bmi       900 non-null    float64\n",
            " 3   children  900 non-null    int64  \n",
            " 4   smoker    900 non-null    object \n",
            " 5   region    900 non-null    object \n",
            " 6   charges   900 non-null    float64\n",
            "dtypes: float64(2), int64(2), object(3)\n",
            "memory usage: 49.3+ KB\n"
          ]
        }
      ]
    },
    {
      "cell_type": "code",
      "source": [
        "fig = plt.figure(figsize=(13,9))\n",
        "plt.subplots_adjust(wspace=0.3, hspace=0.3)\n",
        "\n",
        "ax = fig.add_subplot(221)\n",
        "ax.set_title(\"Distrubition of Age\")\n",
        "ax.scatter(df[\"age\"],df[\"charges\"])\n",
        "\n",
        "ax = fig.add_subplot(222)\n",
        "ax.set_title(\"Distrubition of BMI\")\n",
        "ax.scatter(df[\"bmi\"], df[\"charges\"])\n",
        "\n",
        "ax = fig.add_subplot(223)\n",
        "ax.set_title(\"Distrubition of kids\")\n",
        "ax.scatter(df[\"children\"],df[\"charges\"])\n",
        "\n",
        "ax = fig.add_subplot(224)\n",
        "ax.set_title(\"Distrubition of BMI with respect to smoker\")\n",
        "sns.histplot(data=df, x='bmi', hue='smoker', stat='count', edgecolor=None,multiple=\"dodge\",)\n",
        "plt.show()"
      ],
      "metadata": {
        "colab": {
          "base_uri": "https://localhost:8080/",
          "height": 567
        },
        "id": "syfM_NB-br2m",
        "outputId": "9b876bd8-03b6-40d1-f482-68f143e4ace3"
      },
      "execution_count": 221,
      "outputs": [
        {
          "output_type": "display_data",
          "data": {
            "text/plain": [
              "<Figure size 936x648 with 4 Axes>"
            ],
            "image/png": "[encoded data removed]"
          },
          "metadata": {
            "needs_background": "light"
          }
        }
      ]
    },
    {
      "cell_type": "code",
      "source": [
        "fig = plt.figure(figsize=(10,4))\n",
        "plt.subplots_adjust(wspace=0.3, hspace=0.3)\n",
        "\n",
        "ax = fig.add_subplot(121)\n",
        "ax.hist(df[df[\"sex\"]==\"male\"][\"charges\"], alpha=1, label=\"male\" ,bins=50)\n",
        "ax.set_title(\"DF\")\n",
        "ax.legend()\n",
        "\n",
        "ax = fig.add_subplot(122)\n",
        "ax.hist(df[df[\"sex\"]==\"female\"][\"charges\"], alpha=1, label=\"female\" ,bins=50)\n",
        "ax.set_title(\"DF\")\n",
        "ax.legend()\n",
        "\n",
        "plt.show()"
      ],
      "metadata": {
        "colab": {
          "base_uri": "https://localhost:8080/",
          "height": 281
        },
        "id": "5DIXAnB-ehVc",
        "outputId": "fa6b84de-1bd7-4812-ead4-08a97f607fdd"
      },
      "execution_count": 177,
      "outputs": [
        {
          "output_type": "display_data",
          "data": {
            "text/plain": [
              "<Figure size 720x288 with 2 Axes>"
            ],
            "image/png": "[encoded data removed]"
          },
          "metadata": {
            "needs_background": "light"
          }
        }
      ]
    },
    {
      "cell_type": "code",
      "source": [
        "fig = plt.figure(figsize=(10,4))\n",
        "plt.subplots_adjust(wspace=0.3, hspace=0.3)\n",
        "\n",
        "ax = fig.add_subplot(121)\n",
        "ax.hist(df[df[\"smoker\"]==\"no\"][\"charges\"], alpha=1, label=\"no\" ,bins=50)\n",
        "ax.set_title(\"DF\")\n",
        "ax.legend()\n",
        "\n",
        "ax = fig.add_subplot(122)\n",
        "ax.hist(df[df[\"smoker\"]==\"yes\"][\"charges\"], alpha=1, label=\"yes\" ,bins=50)\n",
        "ax.set_title(\"DF\")\n",
        "ax.legend()\n",
        "\n",
        "plt.show()"
      ],
      "metadata": {
        "colab": {
          "base_uri": "https://localhost:8080/",
          "height": 281
        },
        "id": "IU0J3X3Xgmqg",
        "outputId": "0ec4e92a-677b-443a-8182-c46bbe8ef273"
      },
      "execution_count": 178,
      "outputs": [
        {
          "output_type": "display_data",
          "data": {
            "text/plain": [
              "<Figure size 720x288 with 2 Axes>"
            ],
            "image/png": "[encoded data removed]"
          },
          "metadata": {
            "needs_background": "light"
          }
        }
      ]
    },
    {
      "cell_type": "code",
      "source": [
        "fig = plt.figure(figsize=(12,9))\n",
        "plt.subplots_adjust(wspace=0.3, hspace=0.3)\n",
        "\n",
        "ax = fig.add_subplot(221)\n",
        "ax.hist(df[df[\"region\"]==\"northeast\"][\"charges\"], alpha=1, label=\"northeast\" ,bins=50)\n",
        "ax.set_title(\"DF\")\n",
        "ax.legend()\n",
        "\n",
        "ax = fig.add_subplot(222)\n",
        "ax.hist(df[df[\"region\"]==\"southwest\"][\"charges\"], alpha=1, label=\"southwest\" ,bins=50)\n",
        "ax.set_title(\"DF\")\n",
        "ax.legend()\n",
        "\n",
        "ax = fig.add_subplot(223)\n",
        "ax.hist(df[df[\"region\"]==\"southeast\"][\"charges\"], alpha=1, label=\"southeast\" ,bins=50)\n",
        "ax.set_title(\"DF\")\n",
        "ax.legend()\n",
        "\n",
        "ax = fig.add_subplot(224)\n",
        "ax.hist(df[df[\"region\"]==\"northwest\"][\"charges\"], alpha=1, label=\"northwest\" ,bins=50)\n",
        "ax.set_title(\"DF\")\n",
        "ax.legend()\n",
        "\n",
        "plt.show()"
      ],
      "metadata": {
        "colab": {
          "base_uri": "https://localhost:8080/",
          "height": 553
        },
        "id": "bS7GH3sagyDN",
        "outputId": "f2dd5e6f-20db-474c-8d62-ccb391f74da0"
      },
      "execution_count": 179,
      "outputs": [
        {
          "output_type": "display_data",
          "data": {
            "text/plain": [
              "<Figure size 864x648 with 4 Axes>"
            ],
            "image/png": "[encoded data removed]"
          },
          "metadata": {
            "needs_background": "light"
          }
        }
      ]
    },
    {
      "cell_type": "code",
      "source": [
        "fig = plt.figure(figsize=(10,10))\n",
        "plt.subplots_adjust(wspace=0.3, hspace=0.3)\n",
        "\n",
        "ax = fig.add_subplot(221)\n",
        "ax.hist(df[\"charges\"], alpha=1, label=\"charges\" ,bins=80)\n",
        "ax.set_title(\"DF\")\n",
        "ax.legend()\n",
        "\n",
        "ax = fig.add_subplot(222)\n",
        "ax.hist(df[\"age\"], alpha=1, label=\"age\" ,bins=80)\n",
        "ax.set_title(\"DF\")\n",
        "ax.legend()\n",
        "\n",
        "ax = fig.add_subplot(223)\n",
        "ax.hist(df[\"children\"], alpha=1, label=\"children\" ,bins=5)\n",
        "ax.set_title(\"DF\")\n",
        "ax.legend()\n",
        "\n",
        "plt.show()"
      ],
      "metadata": {
        "colab": {
          "base_uri": "https://localhost:8080/",
          "height": 608
        },
        "id": "0WAi577rhQQA",
        "outputId": "8a34ff2d-0f07-46c4-d40a-64976a177915"
      },
      "execution_count": 209,
      "outputs": [
        {
          "output_type": "display_data",
          "data": {
            "text/plain": [
              "<Figure size 720x720 with 3 Axes>"
            ],
            "image/png": "[encoded data removed]"
          },
          "metadata": {
            "needs_background": "light"
          }
        }
      ]
    },
    {
      "cell_type": "markdown",
      "source": [
        "### feature edit"
      ],
      "metadata": {
        "id": "S_BZvSGpDOtq"
      }
    },
    {
      "cell_type": "code",
      "source": [
        "df = df[df[\"charges\"]<51000]"
      ],
      "metadata": {
        "id": "-5K72c3shcLD"
      },
      "execution_count": 181,
      "outputs": []
    },
    {
      "cell_type": "code",
      "source": [
        "df.loc[df['bmi'] > 35, 'weight'] = \"extraweight\"\n",
        "df.loc[df['bmi'] <= 35, 'weight'] = \"overweight\"\n",
        "df.loc[df['bmi'] < 30, 'weight'] = \"fat\"\n",
        "df.loc[df['bmi'] < 25, 'weight'] = \"ideal\"\n",
        "df.loc[df['bmi'] < 18.5, 'weight'] = \"weak\""
      ],
      "metadata": {
        "id": "13RANfssDaCc"
      },
      "execution_count": 182,
      "outputs": []
    },
    {
      "cell_type": "code",
      "source": [
        "fig = plt.figure(figsize=(10,10))\n",
        "plt.subplots_adjust(wspace=0.3, hspace=0.3)\n",
        "\n",
        "ax = fig.add_subplot(111)\n",
        "ax.set_title(\"Distrubition of BMI\")\n",
        "sns.histplot(data=df, x='charges', hue='weight', multiple=\"dodge\", stat='count')\n",
        "plt.show()"
      ],
      "metadata": {
        "colab": {
          "base_uri": "https://localhost:8080/",
          "height": 621
        },
        "id": "M8Xr3Zuy6pm8",
        "outputId": "fdaa356b-6899-48ef-8f55-d5675ca17434"
      },
      "execution_count": 213,
      "outputs": [
        {
          "output_type": "display_data",
          "data": {
            "text/plain": [
              "<Figure size 720x720 with 1 Axes>"
            ],
            "image/png": "[encoded data removed]"
          },
          "metadata": {
            "needs_background": "light"
          }
        }
      ]
    },
    {
      "cell_type": "code",
      "source": [
        "df_dummies = pd.get_dummies(df,drop_first=True)"
      ],
      "metadata": {
        "id": "nhg8A8YnWRTh"
      },
      "execution_count": 184,
      "outputs": []
    },
    {
      "cell_type": "code",
      "source": [
        "df_dummies.corr()"
      ],
      "metadata": {
        "colab": {
          "base_uri": "https://localhost:8080/",
          "height": 521
        },
        "id": "jF-5cJJWHPeJ",
        "outputId": "9a0aa3c0-8966-4bde-e1b2-bc9e4b18e63c"
      },
      "execution_count": 185,
      "outputs": [
        {
          "output_type": "execute_result",
          "data": {
            "text/plain": [
              "                        age       bmi  children   charges  sex_male  \\\n",
              "age                1.000000  0.114986  0.027333  0.274750 -0.028237   \n",
              "bmi                0.114986  1.000000 -0.013741  0.177320  0.069840   \n",
              "children           0.027333 -0.013741  1.000000  0.046035  0.036567   \n",
              "charges            0.274750  0.177320  0.046035  1.000000  0.056017   \n",
              "sex_male          -0.028237  0.069840  0.036567  0.056017  1.000000   \n",
              "smoker_yes        -0.034283 -0.012199 -0.023343  0.787056  0.057717   \n",
              "region_northwest   0.038580 -0.155033  0.073594 -0.019376 -0.061119   \n",
              "region_southeast  -0.045686  0.287595 -0.054534  0.058649  0.034130   \n",
              "region_southwest  -0.010852  0.018930  0.011013 -0.065580  0.019379   \n",
              "weight_fat        -0.007003 -0.326233  0.001162 -0.098356 -0.059003   \n",
              "weight_ideal      -0.104052 -0.586591  0.025396 -0.118700 -0.033310   \n",
              "weight_overweight  0.029155  0.179002  0.041791  0.080035  0.039004   \n",
              "weight_weak       -0.063592 -0.281415 -0.039060 -0.063646 -0.025224   \n",
              "\n",
              "                   smoker_yes  region_northwest  region_southeast  \\\n",
              "age                 -0.034283          0.038580         -0.045686   \n",
              "bmi                 -0.012199         -0.155033          0.287595   \n",
              "children            -0.023343          0.073594         -0.054534   \n",
              "charges              0.787056         -0.019376          0.058649   \n",
              "sex_male             0.057717         -0.061119          0.034130   \n",
              "smoker_yes           1.000000         -0.034160          0.071262   \n",
              "region_northwest    -0.034160          1.000000         -0.349896   \n",
              "region_southeast     0.071262         -0.349896          1.000000   \n",
              "region_southwest    -0.054358         -0.324463         -0.350953   \n",
              "weight_fat           0.005760          0.076548         -0.068712   \n",
              "weight_ideal         0.010187          0.037374         -0.122459   \n",
              "weight_overweight   -0.012865          0.005183         -0.059316   \n",
              "weight_weak         -0.026354          0.067482         -0.080273   \n",
              "\n",
              "                   region_southwest  weight_fat  weight_ideal  \\\n",
              "age                       -0.010852   -0.007003     -0.104052   \n",
              "bmi                        0.018930   -0.326233     -0.586591   \n",
              "children                   0.011013    0.001162      0.025396   \n",
              "charges                   -0.065580   -0.098356     -0.118700   \n",
              "sex_male                   0.019379   -0.059003     -0.033310   \n",
              "smoker_yes                -0.054358    0.005760      0.010187   \n",
              "region_northwest          -0.324463    0.076548      0.037374   \n",
              "region_southeast          -0.350953   -0.068712     -0.122459   \n",
              "region_southwest           1.000000   -0.015878     -0.034041   \n",
              "weight_fat                -0.015878    1.000000     -0.288226   \n",
              "weight_ideal              -0.034041   -0.288226      1.000000   \n",
              "weight_overweight          0.067158   -0.406388     -0.274473   \n",
              "weight_weak               -0.034016   -0.085240     -0.057571   \n",
              "\n",
              "                   weight_overweight  weight_weak  \n",
              "age                         0.029155    -0.063592  \n",
              "bmi                         0.179002    -0.281415  \n",
              "children                    0.041791    -0.039060  \n",
              "charges                     0.080035    -0.063646  \n",
              "sex_male                    0.039004    -0.025224  \n",
              "smoker_yes                 -0.012865    -0.026354  \n",
              "region_northwest            0.005183     0.067482  \n",
              "region_southeast           -0.059316    -0.080273  \n",
              "region_southwest            0.067158    -0.034016  \n",
              "weight_fat                 -0.406388    -0.085240  \n",
              "weight_ideal               -0.274473    -0.057571  \n",
              "weight_overweight           1.000000    -0.081173  \n",
              "weight_weak                -0.081173     1.000000  "
            ],
            "text/html": [
              "\n",
              "  <div id=\"df-50305b8b-72ee-46eb-aa51-1a5a9df88c9b\">\n",
              "    <div class=\"colab-df-container\">\n",
              "      <div>\n",
              "<style scoped>\n",
              "    .dataframe tbody tr th:only-of-type {\n",
              "        vertical-align: middle;\n",
              "    }\n",
              "\n",
              "    .dataframe tbody tr th {\n",
              "        vertical-align: top;\n",
              "    }\n",
              "\n",
              "    .dataframe thead th {\n",
              "        text-align: right;\n",
              "    }\n",
              "</style>\n",
              "<table border=\"1\" class=\"dataframe\">\n",
              "  <thead>\n",
              "    <tr style=\"text-align: right;\">\n",
              "      <th></th>\n",
              "      <th>age</th>\n",
              "      <th>bmi</th>\n",
              "      <th>children</th>\n",
              "      <th>charges</th>\n",
              "      <th>sex_male</th>\n",
              "      <th>smoker_yes</th>\n",
              "      <th>region_northwest</th>\n",
              "      <th>region_southeast</th>\n",
              "      <th>region_southwest</th>\n",
              "      <th>weight_fat</th>\n",
              "      <th>weight_ideal</th>\n",
              "      <th>weight_overweight</th>\n",
              "      <th>weight_weak</th>\n",
              "    </tr>\n",
              "  </thead>\n",
              "  <tbody>\n",
              "    <tr>\n",
              "      <th>age</th>\n",
              "      <td>1.000000</td>\n",
              "      <td>0.114986</td>\n",
              "      <td>0.027333</td>\n",
              "      <td>0.274750</td>\n",
              "      <td>-0.028237</td>\n",
              "      <td>-0.034283</td>\n",
              "      <td>0.038580</td>\n",
              "      <td>-0.045686</td>\n",
              "      <td>-0.010852</td>\n",
              "      <td>-0.007003</td>\n",
              "      <td>-0.104052</td>\n",
              "      <td>0.029155</td>\n",
              "      <td>-0.063592</td>\n",
              "    </tr>\n",
              "    <tr>\n",
              "      <th>bmi</th>\n",
              "      <td>0.114986</td>\n",
              "      <td>1.000000</td>\n",
              "      <td>-0.013741</td>\n",
              "      <td>0.177320</td>\n",
              "      <td>0.069840</td>\n",
              "      <td>-0.012199</td>\n",
              "      <td>-0.155033</td>\n",
              "      <td>0.287595</td>\n",
              "      <td>0.018930</td>\n",
              "      <td>-0.326233</td>\n",
              "      <td>-0.586591</td>\n",
              "      <td>0.179002</td>\n",
              "      <td>-0.281415</td>\n",
              "    </tr>\n",
              "    <tr>\n",
              "      <th>children</th>\n",
              "      <td>0.027333</td>\n",
              "      <td>-0.013741</td>\n",
              "      <td>1.000000</td>\n",
              "      <td>0.046035</td>\n",
              "      <td>0.036567</td>\n",
              "      <td>-0.023343</td>\n",
              "      <td>0.073594</td>\n",
              "      <td>-0.054534</td>\n",
              "      <td>0.011013</td>\n",
              "      <td>0.001162</td>\n",
              "      <td>0.025396</td>\n",
              "      <td>0.041791</td>\n",
              "      <td>-0.039060</td>\n",
              "    </tr>\n",
              "    <tr>\n",
              "      <th>charges</th>\n",
              "      <td>0.274750</td>\n",
              "      <td>0.177320</td>\n",
              "      <td>0.046035</td>\n",
              "      <td>1.000000</td>\n",
              "      <td>0.056017</td>\n",
              "      <td>0.787056</td>\n",
              "      <td>-0.019376</td>\n",
              "      <td>0.058649</td>\n",
              "      <td>-0.065580</td>\n",
              "      <td>-0.098356</td>\n",
              "      <td>-0.118700</td>\n",
              "      <td>0.080035</td>\n",
              "      <td>-0.063646</td>\n",
              "    </tr>\n",
              "    <tr>\n",
              "      <th>sex_male</th>\n",
              "      <td>-0.028237</td>\n",
              "      <td>0.069840</td>\n",
              "      <td>0.036567</td>\n",
              "      <td>0.056017</td>\n",
              "      <td>1.000000</td>\n",
              "      <td>0.057717</td>\n",
              "      <td>-0.061119</td>\n",
              "      <td>0.034130</td>\n",
              "      <td>0.019379</td>\n",
              "      <td>-0.059003</td>\n",
              "      <td>-0.033310</td>\n",
              "      <td>0.039004</td>\n",
              "      <td>-0.025224</td>\n",
              "    </tr>\n",
              "    <tr>\n",
              "      <th>smoker_yes</th>\n",
              "      <td>-0.034283</td>\n",
              "      <td>-0.012199</td>\n",
              "      <td>-0.023343</td>\n",
              "      <td>0.787056</td>\n",
              "      <td>0.057717</td>\n",
              "      <td>1.000000</td>\n",
              "      <td>-0.034160</td>\n",
              "      <td>0.071262</td>\n",
              "      <td>-0.054358</td>\n",
              "      <td>0.005760</td>\n",
              "      <td>0.010187</td>\n",
              "      <td>-0.012865</td>\n",
              "      <td>-0.026354</td>\n",
              "    </tr>\n",
              "    <tr>\n",
              "      <th>region_northwest</th>\n",
              "      <td>0.038580</td>\n",
              "      <td>-0.155033</td>\n",
              "      <td>0.073594</td>\n",
              "      <td>-0.019376</td>\n",
              "      <td>-0.061119</td>\n",
              "      <td>-0.034160</td>\n",
              "      <td>1.000000</td>\n",
              "      <td>-0.349896</td>\n",
              "      <td>-0.324463</td>\n",
              "      <td>0.076548</td>\n",
              "      <td>0.037374</td>\n",
              "      <td>0.005183</td>\n",
              "      <td>0.067482</td>\n",
              "    </tr>\n",
              "    <tr>\n",
              "      <th>region_southeast</th>\n",
              "      <td>-0.045686</td>\n",
              "      <td>0.287595</td>\n",
              "      <td>-0.054534</td>\n",
              "      <td>0.058649</td>\n",
              "      <td>0.034130</td>\n",
              "      <td>0.071262</td>\n",
              "      <td>-0.349896</td>\n",
              "      <td>1.000000</td>\n",
              "      <td>-0.350953</td>\n",
              "      <td>-0.068712</td>\n",
              "      <td>-0.122459</td>\n",
              "      <td>-0.059316</td>\n",
              "      <td>-0.080273</td>\n",
              "    </tr>\n",
              "    <tr>\n",
              "      <th>region_southwest</th>\n",
              "      <td>-0.010852</td>\n",
              "      <td>0.018930</td>\n",
              "      <td>0.011013</td>\n",
              "      <td>-0.065580</td>\n",
              "      <td>0.019379</td>\n",
              "      <td>-0.054358</td>\n",
              "      <td>-0.324463</td>\n",
              "      <td>-0.350953</td>\n",
              "      <td>1.000000</td>\n",
              "      <td>-0.015878</td>\n",
              "      <td>-0.034041</td>\n",
              "      <td>0.067158</td>\n",
              "      <td>-0.034016</td>\n",
              "    </tr>\n",
              "    <tr>\n",
              "      <th>weight_fat</th>\n",
              "      <td>-0.007003</td>\n",
              "      <td>-0.326233</td>\n",
              "      <td>0.001162</td>\n",
              "      <td>-0.098356</td>\n",
              "      <td>-0.059003</td>\n",
              "      <td>0.005760</td>\n",
              "      <td>0.076548</td>\n",
              "      <td>-0.068712</td>\n",
              "      <td>-0.015878</td>\n",
              "      <td>1.000000</td>\n",
              "      <td>-0.288226</td>\n",
              "      <td>-0.406388</td>\n",
              "      <td>-0.085240</td>\n",
              "    </tr>\n",
              "    <tr>\n",
              "      <th>weight_ideal</th>\n",
              "      <td>-0.104052</td>\n",
              "      <td>-0.586591</td>\n",
              "      <td>0.025396</td>\n",
              "      <td>-0.118700</td>\n",
              "      <td>-0.033310</td>\n",
              "      <td>0.010187</td>\n",
              "      <td>0.037374</td>\n",
              "      <td>-0.122459</td>\n",
              "      <td>-0.034041</td>\n",
              "      <td>-0.288226</td>\n",
              "      <td>1.000000</td>\n",
              "      <td>-0.274473</td>\n",
              "      <td>-0.057571</td>\n",
              "    </tr>\n",
              "    <tr>\n",
              "      <th>weight_overweight</th>\n",
              "      <td>0.029155</td>\n",
              "      <td>0.179002</td>\n",
              "      <td>0.041791</td>\n",
              "      <td>0.080035</td>\n",
              "      <td>0.039004</td>\n",
              "      <td>-0.012865</td>\n",
              "      <td>0.005183</td>\n",
              "      <td>-0.059316</td>\n",
              "      <td>0.067158</td>\n",
              "      <td>-0.406388</td>\n",
              "      <td>-0.274473</td>\n",
              "      <td>1.000000</td>\n",
              "      <td>-0.081173</td>\n",
              "    </tr>\n",
              "    <tr>\n",
              "      <th>weight_weak</th>\n",
              "      <td>-0.063592</td>\n",
              "      <td>-0.281415</td>\n",
              "      <td>-0.039060</td>\n",
              "      <td>-0.063646</td>\n",
              "      <td>-0.025224</td>\n",
              "      <td>-0.026354</td>\n",
              "      <td>0.067482</td>\n",
              "      <td>-0.080273</td>\n",
              "      <td>-0.034016</td>\n",
              "      <td>-0.085240</td>\n",
              "      <td>-0.057571</td>\n",
              "      <td>-0.081173</td>\n",
              "      <td>1.000000</td>\n",
              "    </tr>\n",
              "  </tbody>\n",
              "</table>\n",
              "</div>\n",
              "      <button class=\"colab-df-convert\" onclick=\"convertToInteractive('df-50305b8b-72ee-46eb-aa51-1a5a9df88c9b')\"\n",
              "              title=\"Convert this dataframe to an interactive table.\"\n",
              "              style=\"display:none;\">\n",
              "        \n",
              "  <svg xmlns=\"http://www.w3.org/2000/svg\" height=\"24px\"viewBox=\"0 0 24 24\"\n",
              "       width=\"24px\">\n",
              "    <path d=\"M0 0h24v24H0V0z\" fill=\"none\"/>\n",
              "    <path d=\"M18.56 5.44l.94 2.06.94-2.06 2.06-.94-2.06-.94-.94-2.06-.94 2.06-2.06.94zm-11 1L8.5 8.5l.94-2.06 2.06-.94-2.06-.94L8.5 2.5l-.94 2.06-2.06.94zm10 10l.94 2.06.94-2.06 2.06-.94-2.06-.94-.94-2.06-.94 2.06-2.06.94z\"/><path d=\"M17.41 7.96l-1.37-1.37c-.4-.4-.92-.59-1.43-.59-.52 0-1.04.2-1.43.59L10.3 9.45l-7.72 7.72c-.78.78-.78 2.05 0 2.83L4 21.41c.39.39.9.59 1.41.59.51 0 1.02-.2 1.41-.59l7.78-7.78 2.81-2.81c.8-.78.8-2.07 0-2.86zM5.41 20L4 18.59l7.72-7.72 1.47 1.35L5.41 20z\"/>\n",
              "  </svg>\n",
              "      </button>\n",
              "      \n",
              "  <style>\n",
              "    .colab-df-container {\n",
              "      display:flex;\n",
              "      flex-wrap:wrap;\n",
              "      gap: 12px;\n",
              "    }\n",
              "\n",
              "    .colab-df-convert {\n",
              "      background-color: #E8F0FE;\n",
              "      border: none;\n",
              "      border-radius: 50%;\n",
              "      cursor: pointer;\n",
              "      display: none;\n",
              "      fill: #1967D2;\n",
              "      height: 32px;\n",
              "      padding: 0 0 0 0;\n",
              "      width: 32px;\n",
              "    }\n",
              "\n",
              "    .colab-df-convert:hover {\n",
              "      background-color: #E2EBFA;\n",
              "      box-shadow: 0px 1px 2px rgba(60, 64, 67, 0.3), 0px 1px 3px 1px rgba(60, 64, 67, 0.15);\n",
              "      fill: #174EA6;\n",
              "    }\n",
              "\n",
              "    [theme=dark] .colab-df-convert {\n",
              "      background-color: #3B4455;\n",
              "      fill: #D2E3FC;\n",
              "    }\n",
              "\n",
              "    [theme=dark] .colab-df-convert:hover {\n",
              "      background-color: #434B5C;\n",
              "      box-shadow: 0px 1px 3px 1px rgba(0, 0, 0, 0.15);\n",
              "      filter: drop-shadow(0px 1px 2px rgba(0, 0, 0, 0.3));\n",
              "      fill: #FFFFFF;\n",
              "    }\n",
              "  </style>\n",
              "\n",
              "      <script>\n",
              "        const buttonEl =\n",
              "          document.querySelector('#df-50305b8b-72ee-46eb-aa51-1a5a9df88c9b button.colab-df-convert');\n",
              "        buttonEl.style.display =\n",
              "          google.colab.kernel.accessAllowed ? 'block' : 'none';\n",
              "\n",
              "        async function convertToInteractive(key) {\n",
              "          const element = document.querySelector('#df-50305b8b-72ee-46eb-aa51-1a5a9df88c9b');\n",
              "          const dataTable =\n",
              "            await google.colab.kernel.invokeFunction('convertToInteractive',\n",
              "                                                     [key], {});\n",
              "          if (!dataTable) return;\n",
              "\n",
              "          const docLinkHtml = 'Like what you see? Visit the ' +\n",
              "            '<a target=\"_blank\" href=https://colab.research.google.com/notebooks/data_table.ipynb>data table notebook</a>'\n",
              "            + ' to learn more about interactive tables.';\n",
              "          element.innerHTML = '';\n",
              "          dataTable['output_type'] = 'display_data';\n",
              "          await google.colab.output.renderOutput(dataTable, element);\n",
              "          const docLink = document.createElement('div');\n",
              "          docLink.innerHTML = docLinkHtml;\n",
              "          element.appendChild(docLink);\n",
              "        }\n",
              "      </script>\n",
              "    </div>\n",
              "  </div>\n",
              "  "
            ]
          },
          "metadata": {},
          "execution_count": 185
        }
      ]
    },
    {
      "cell_type": "code",
      "source": [
        "df_dummies = df_dummies.drop_duplicates()"
      ],
      "metadata": {
        "id": "ZwM_Z34EHLM7"
      },
      "execution_count": 186,
      "outputs": []
    },
    {
      "cell_type": "code",
      "source": [
        "y = df_dummies[[\"charges\"]]\n",
        "x = df_dummies[[\"age\",\"smoker_yes\",\"weight_fat\",\"weight_ideal\",\"weight_overweight\",\"weight_weak\"]]"
      ],
      "metadata": {
        "id": "23rFBdTGhrPx"
      },
      "execution_count": 187,
      "outputs": []
    },
    {
      "cell_type": "code",
      "source": [
        "df_test.loc[df_test['bmi'] > 35, 'weight'] = \"extraweight\"\n",
        "df_test.loc[df_test['bmi'] <= 35, 'weight'] = \"overweight\"\n",
        "df_test.loc[df_test['bmi'] < 30, 'weight'] = \"fat\"\n",
        "df_test.loc[df_test['bmi'] < 25, 'weight'] = \"ideal\"\n",
        "df_test.loc[df_test['bmi'] < 18.5, 'weight'] = \"weak\""
      ],
      "metadata": {
        "id": "2MYo7BvQ8b5j"
      },
      "execution_count": 188,
      "outputs": []
    },
    {
      "cell_type": "code",
      "source": [
        "df_test_dummies = pd.get_dummies(df_test,drop_first=True) "
      ],
      "metadata": {
        "id": "0b-BoPBL8IcU"
      },
      "execution_count": 189,
      "outputs": []
    },
    {
      "cell_type": "code",
      "source": [
        "x_test = df_test_dummies[[\"age\",\"smoker_yes\",\"weight_fat\",\"weight_ideal\",\"weight_overweight\",\"weight_weak\"]]"
      ],
      "metadata": {
        "id": "urXRAPv_8fZu"
      },
      "execution_count": 190,
      "outputs": []
    },
    {
      "cell_type": "markdown",
      "source": [
        "### Results"
      ],
      "metadata": {
        "id": "U0pOLjsjajQb"
      }
    },
    {
      "cell_type": "code",
      "execution_count": 198,
      "metadata": {
        "id": "PpHAMl5jXZFV"
      },
      "outputs": [],
      "source": [
        "# import xgboost for learning model\n",
        "class Regression:\n",
        "    def __init__(self):\n",
        "        # Defining Regressors. All parameters are default.\n",
        "        self.models = [BayesianRidge(), Ridge(), Lasso(),DecisionTreeRegressor(criterion=\"mse\"),GaussianProcessRegressor(optimizer=mse)]\n",
        "        \n",
        "    def loadData(self,X_train_path, y_train_path, x_test_path):\n",
        "        #self.X_train = pd.read_csv(X_train_path)\n",
        "        #self.y_train = pd.read_csv(y_train_path)\n",
        "        #self.X_test = pd.read_csv(x_test_path)\n",
        "        self.X_train = X_train_path\n",
        "        self.y_train = y_train_path\n",
        "        self.X_test = x_test_path\n",
        "\n",
        "        # Determining outliers in the data set by applying LocalOutlierFactor on the data\n",
        "    def preprocessData(self):\n",
        "          clf = LocalOutlierFactor(n_neighbors=50)\n",
        "          outX_train, outy_train = clf.fit_predict(self.X_train), clf.fit_predict(self.y_train)\n",
        "          self.X_train = np.delete(np.asarray(self.X_train),np.argwhere(outX_train + outy_train != 2),axis=0)\n",
        "          self.y_train = np.delete(np.asarray(self.y_train),np.argwhere(outX_train + outy_train != 2),axis=0)\n",
        "        \n",
        "        # Fit method\n",
        "    def fit(self):\n",
        "        for model in self.models:\n",
        "            print(\"STARTING ...\")\n",
        "            print(\"MODEL:\" + str(model))\n",
        "            model.fit(self.X_train,self.y_train)\n",
        "            print(\"FINISHED!\")\n",
        "    \n",
        "    def saveModel(self,out_name):\n",
        "        pickle.dump(self.models, open(out_name, 'wb'))\n",
        "        \n",
        "    def loadModel(self,model_name):\n",
        "        self.models = pickle.load(open(model_name, 'rb'))\n",
        "        \n",
        "        # Writing test predictions to csv\n",
        "    def outCsv(self,out_file_name, selected_model = 0):\n",
        "        predicted = self.models[selected_model].predict(self.X_test)  #direct output\n",
        "        meltedDF = pd.DataFrame(predicted).to_numpy().flatten()\n",
        "        ID_column = []\n",
        "        for i in range(meltedDF.shape[0]):\n",
        "            ID_column.append(i) \n",
        "        ID_column_frame = pd.DataFrame(ID_column, columns = ['ID'] )\n",
        "        predicted_frame = pd.DataFrame(meltedDF, columns = ['Predicted'])\n",
        "        pd.concat([ID_column_frame,predicted_frame],axis=1).to_csv(out_file_name,index=False)\n"
      ]
    },
    {
      "cell_type": "code",
      "source": [
        "class crossValidation:\n",
        "    def __init__(self,model):\n",
        "        self.model = model\n",
        "        self.kf = KFold(n_splits=5, shuffle=True, random_state=1)\n",
        "        self.mse = []\n",
        "\n",
        "    def loadData(self,X_train_path, y_train_path, x_test_path):\n",
        "        #self.X_train = pd.read_csv(X_train_path)\n",
        "        #self.y_train = pd.read_csv(y_train_path)\n",
        "        #self.X_test = pd.read_csv(x_test_path)\n",
        "        self.X_train = X_train_path\n",
        "        self.y_train = y_train_path\n",
        "        self.X_test = x_test_path \n",
        "    \n",
        "        # PCA method for data Preprocessing\n",
        "    def PCA(self,n_components):\n",
        "        self.transformer = PCA(n_components=n_components) #n_components = min(num of samples, num of features)\n",
        "        self.transformer.fit(self.X_test)\n",
        "        return self.transformer.transform(self.X_train),self.transformer.transform(self.X_test)       \n",
        "        \n",
        "        # 5 fold cv\n",
        "    def cv5(self,X,y):\n",
        "        X = X.values\n",
        "        y = y.values\n",
        "        for train_index,test_index in self.kf.split(X):\n",
        "            X_train, X_test = X[train_index], X[test_index]\n",
        "            y_train, y_test = y[train_index], y[test_index]\n",
        "            \n",
        "            X_train_, X_test_ = self.PCA(3)\n",
        "\n",
        "            reg = self.model\n",
        "            reg.fit( X_train,y_train)\n",
        "\n",
        "            predictions = reg.predict(X_test)\n",
        "            self.mse.append(mse(predictions,y_test))\n",
        "\n",
        "        print(str(model),\": Mean MSE Score:\", np.average(self.mse))\n"
      ],
      "metadata": {
        "id": "Pa5-GNK4ZUxc"
      },
      "execution_count": 199,
      "outputs": []
    },
    {
      "cell_type": "code",
      "source": [
        "Regressor = Regression()\n",
        "Regressor.loadData(x,y,x_test)\n",
        "Regressor.preprocessData()\n",
        "\n",
        "# Training Model\n",
        "Regressor.fit()\n",
        "#Regressor.saveModel('BayesianRidge_regressor.pkl')\n",
        "    \n",
        "# Loading Model\n",
        "#Regressor.loadModel('BayesianRidge_regressor.pkl')\n",
        "\n",
        "# Write predictions\n",
        "Regressor.outCsv(\"test.csv\", 3)\n",
        "\n",
        "for model in Regressor.models:\n",
        "    cv = crossValidation(model)\n",
        "    cv.loadData(x,y,x_test)\n",
        "    cv.cv5(x,y)\n",
        "\n"
      ],
      "metadata": {
        "colab": {
          "base_uri": "https://localhost:8080/"
        },
        "id": "OHWDQlm0Y4p7",
        "outputId": "ddea99a2-0cad-4692-bd3e-70912ca97250"
      },
      "execution_count": 200,
      "outputs": [
        {
          "output_type": "stream",
          "name": "stdout",
          "text": [
            "STARTING ...\n",
            "MODEL:BayesianRidge()\n",
            "FINISHED!\n",
            "STARTING ...\n",
            "MODEL:Ridge()\n",
            "FINISHED!\n",
            "STARTING ...\n",
            "MODEL:Lasso()\n",
            "FINISHED!\n",
            "STARTING ...\n",
            "MODEL:DecisionTreeRegressor(criterion='mse')\n",
            "FINISHED!\n",
            "STARTING ...\n",
            "MODEL:GaussianProcessRegressor(optimizer=<function mean_squared_error at 0x7f27c0eaa160>)\n",
            "FINISHED!\n",
            "BayesianRidge() : Mean MSE Score: 36946351.67540533\n",
            "Ridge() : Mean MSE Score: 36944032.934621036\n",
            "Lasso() : Mean MSE Score: 36950628.87140314\n",
            "DecisionTreeRegressor(criterion='mse') : Mean MSE Score: 30035950.53737269\n",
            "GaussianProcessRegressor(optimizer=<function mean_squared_error at 0x7f27c0eaa160>) : Mean MSE Score: 33433960.256230514\n"
          ]
        }
      ]
    },
    {
      "cell_type": "code",
      "source": [],
      "metadata": {
        "id": "ZWcEySSBZ234"
      },
      "execution_count": 197,
      "outputs": []
    }
  ]
}